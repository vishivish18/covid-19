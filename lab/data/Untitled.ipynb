{
 "cells": [
  {
   "cell_type": "code",
   "execution_count": 1,
   "metadata": {},
   "outputs": [],
   "source": [
    "allgeoJSONCountries = [\"Afghanistan\",\"Albania\",\"Algeria\",\"Angola\",\"Antarctica\",\"Argentina\",\"Armenia\",\"Australia\",\"Austria\",\"Azerbaijan\",\"Bahamas\",\"Bangladesh\",\"Belarus\",\"Belgium\",\"Belize\",\"Benin\",\"Bhutan\",\"Bolivia\",\"Bosnia and Herz.\",\"Botswana\",\"Brazil\",\"Brunei\",\"Bulgaria\",\"Burkina Faso\",\"Burundi\",\"Cambodia\",\"Cameroon\",\"Canada\",\"Central African Rep.\",\"Chad\",\"Chile\",\"China\",\"Colombia\",\"Congo\",\"Costa Rica\",\"Côte d'Ivoire\",\"Croatia\",\"Cuba\",\"Cyprus\",\"Czechia\",\"Dem. Rep. Congo\",\"Denmark\",\"Djibouti\",\"Dominican Rep.\",\"Ecuador\",\"Egypt\",\"El Salvador\",\"Eq. Guinea\",\"Eritrea\",\"Estonia\",\"eSwatini\",\"Ethiopia\",\"Falkland Is.\",\"Fiji\",\"Finland\",\"Fr. S. Antarctic Lands\",\"France\",\"Gabon\",\"Gambia\",\"Georgia\",\"Germany\",\"Ghana\",\"Greece\",\"Greenland\",\"Guatemala\",\"Guinea\",\"Guinea-Bissau\",\"Guyana\",\"Haiti\",\"Honduras\",\"Hungary\",\"Iceland\",\"India\",\"Indonesia\",\"Iran\",\"Iraq\",\"Ireland\",\"Israel\",\"Italy\",\"Jamaica\",\"Japan\",\"Jordan\",\"Kazakhstan\",\"Kenya\",\"Kosovo\",\"Kuwait\",\"Kyrgyzstan\",\"Laos\",\"Latvia\",\"Lebanon\",\"Lesotho\",\"Liberia\",\"Libya\",\"Lithuania\",\"Luxembourg\",\"Macedonia\",\"Madagascar\",\"Malawi\",\"Malaysia\",\"Mali\",\"Mauritania\",\"Mexico\",\"Moldova\",\"Mongolia\",\"Montenegro\",\"Morocco\",\"Mozambique\",\"Myanmar\",\"N. Cyprus\",\"Namibia\",\"Nepal\",\"Netherlands\",\"New Caledonia\",\"New Zealand\",\"Nicaragua\",\"Niger\",\"Nigeria\",\"North Korea\",\"Norway\",\"Oman\",\"Pakistan\",\"Palestine\",\"Panama\",\"Papua New Guinea\",\"Paraguay\",\"Peru\",\"Philippines\",\"Poland\",\"Portugal\",\"Puerto Rico\",\"Qatar\",\"Romania\",\"Russia\",\"Rwanda\",\"S. Sudan\",\"Saudi Arabia\",\"Senegal\",\"Serbia\",\"Sierra Leone\",\"Slovakia\",\"Slovenia\",\"Solomon Is.\",\"Somalia\",\"Somaliland\",\"South Africa\",\"South Korea\",\"Spain\",\"Sri Lanka\",\"Sudan\",\"Suriname\",\"Sweden\",\"Switzerland\",\"Syria\",\"Taiwan\",\"Tajikistan\",\"Tanzania\",\"Thailand\",\"Timor-Leste\",\"Togo\",\"Trinidad and Tobago\",\"Tunisia\",\"Turkey\",\"Turkmenistan\",\"Uganda\",\"Ukraine\",\"United Arab Emirates\",\"United Kingdom\",\"United States of America\",\"Uruguay\",\"Uzbekistan\",\"Vanuatu\",\"Venezuela\",\"Vietnam\",\"W. Sahara\",\"Yemen\",\"Zambia\",\"Zimbabwe\",]"
   ]
  },
  {
   "cell_type": "code",
   "execution_count": 9,
   "metadata": {},
   "outputs": [],
   "source": [
    "allDataCountries = [\"Afghanistan\",\"Albania\",\"Algeria\",\"Andorra\",\"Angola\",\"Antigua and Barbuda\",\"Argentina\",\"Armenia\",\"Australia\",\"Austria\",\"Azerbaijan\",\"Bahamas\",\"Bahrain\",\"Bangladesh\",\"Barbados\",\"Belarus\",\"Belgium\",\"Belize\",\"Benin\",\"Bhutan\",\"Bolivia\",\"Bosnia and Herz.\",\"Botswana\",\"Brazil\",\"Brunei\",\"Bulgaria\",\"Burkina Faso\",\"Burma\",\"Burundi\",\"Cabo Verde\",\"Cambodia\",\"Cameroon\",\"Canada\",\"Central African Republic\",\"Chad\",\"Chile\",\"China\",\"Colombia\",\"Comoros\",\"Congo(Brazzaville)\",\"Congo(Kinshasa)\",\"CostaRica\",\"CotedIvoire\",\"Croatia\",\"Cuba\",\"Cyprus\",\"Czechia\",\"Denmark\",\"Diamond Princess\",\"Djibouti\",\"Dominica\",\"Dominican Republic\",\"Ecuador\",\"Egypt\",\"El Salvador\",\"Equatorial Guinea\",\"Eritrea\",\"Estonia\",\"Eswatini\",\"Ethiopia\",\"Fiji\",\"Finland\",\"France\",\"Gabon\",\"Gambia\",\"Georgia\",\"Germany\",\"Ghana\",\"Greece\",\"Grenada\",\"Guatemala\",\"Guinea\",\"Guinea-Bissau\",\"Guyana\",\"Haiti\",\"HolySee\",\"Honduras\",\"Hungary\",\"Iceland\",\"India\",\"Indonesia\",\"Iran\",\"Iraq\",\"Ireland\",\"Israel\",\"Italy\",\"Jamaica\",\"Japan\",\"Jordan\",\"Kazakhstan\",\"Kenya\",\"KoreaSouth\",\"Kosovo\",\"Kuwait\",\"Kyrgyzstan\",\"Laos\",\"Latvia\",\"Lebanon\",\"Liberia\",\"Libya\",\"Liechtenstein\",\"Lithuania\",\"Luxembourg\",\"Madagascar\",\"Malawi\",\"Malaysia\",\"Maldives\",\"Mali\",\"Malta\",\"Mauritania\",\"Mauritius\",\"Mexico\",\"Moldova\",\"Monaco\",\"Mongolia\",\"Montenegro\",\"Morocco\",\"Mozambique\",\"MSZaandam\",\"Namibia\",\"Nepal\",\"Netherlands\",\"NewZealand\",\"Nicaragua\",\"Niger\",\"Nigeria\",\"NorthMacedonia\",\"Norway\",\"Oman\",\"Pakistan\",\"Panama\",\"PapuaNewGuinea\",\"Paraguay\",\"Peru\",\"Philippines\",\"Poland\",\"Portugal\",\"Qatar\",\"Romania\",\"Russia\",\"Rwanda\",\"Saint Kitts and Nevis\",\"Saint Lucia\",\"Saint Vincent and the  Grenadines\",\"SanMarino\",\"Sao Tome and Principe\",\"Saudi Arabia\",\"Senegal\",\"Serbia\",\"Seychelles\",\"Sierra Leone\",\"Singapore\",\"Slovakia\",\"Slovenia\",\"Somalia\",\"South Africa\",\"South Sudan\",\"Spain\",\"Sri Lanka\",\"Sudan\",\"Suriname\",\"Sweden\",\"Switzerland\",\"Syria\",\"Taiwan*\",\"Tajikistan\",\"Tanzania\",\"Thailand\",\"Timor-Leste\",\"Togo\",\"Trinidad and Tobago\",\"Tunisia\",\"Turkey\",\"Uganda\",\"Ukraine\",\"United Arab Emirates\",\"United Kingdom\",\"Uruguay\",\"US\",\"Uzbekistan\",\"Venezuela\",\"Vietnam\",\"West Bank and Gaza\",\"Western Sahara\",\"Yemen\",\"Zambia\",\"Zimbabwe\"]"
   ]
  },
  {
   "cell_type": "code",
   "execution_count": 10,
   "metadata": {},
   "outputs": [
    {
     "name": "stdout",
     "output_type": "stream",
     "text": [
      "AllGEOJSON NOT MATCHING ['Antarctica', 'Central African Rep.', 'Congo', 'Costa Rica', \"Côte d'Ivoire\", 'Dem. Rep. Congo', 'Dominican Rep.', 'Eq. Guinea', 'eSwatini', 'Falkland Is.', 'Fr. S. Antarctic Lands', 'Greenland', 'Lesotho', 'Macedonia', 'Myanmar', 'N. Cyprus', 'New Caledonia', 'New Zealand', 'North Korea', 'Palestine', 'Papua New Guinea', 'Puerto Rico', 'S. Sudan', 'Solomon Is.', 'Somaliland', 'South Korea', 'Taiwan', 'Turkmenistan', 'United States of America', 'Vanuatu', 'W. Sahara']\n",
      "ALL DATA NOT MATCHING ['Andorra', 'Antigua and Barbuda', 'Bahrain', 'Barbados', 'Burma', 'Cabo Verde', 'Central African Republic', 'Comoros', 'Congo(Brazzaville)', 'Congo(Kinshasa)', 'CostaRica', 'CotedIvoire', 'Diamond Princess', 'Dominica', 'Dominican Republic', 'Equatorial Guinea', 'Eswatini', 'Grenada', 'HolySee', 'KoreaSouth', 'Liechtenstein', 'Maldives', 'Malta', 'Mauritius', 'Monaco', 'MSZaandam', 'NewZealand', 'NorthMacedonia', 'PapuaNewGuinea', 'Saint Kitts and Nevis', 'Saint Lucia', 'Saint Vincent and the  Grenadines', 'SanMarino', 'Sao Tome and Principe', 'Seychelles', 'Singapore', 'South Sudan', 'Taiwan*', 'US', 'West Bank and Gaza', 'Western Sahara']\n"
     ]
    }
   ],
   "source": [
    "def disjoint(e,f):\n",
    "    c = e.copy() # [:] works also, but I think this is clearer\n",
    "    d = f.copy()\n",
    "    for i in e: # no need for index. just walk each items in the array\n",
    "        for j in f:\n",
    "            if i == j: # if there is a match, remove the match.\n",
    "                c.remove(i)\n",
    "                d.remove(j)\n",
    "    print(\"AllGEOJSON NOT MATCHING\", c)\n",
    "    print(\"ALL DATA NOT MATCHING\", d)\n",
    "\n",
    "(disjoint(allgeoJSONCountries,allDataCountries))"
   ]
  },
  {
   "cell_type": "code",
   "execution_count": null,
   "metadata": {},
   "outputs": [],
   "source": []
  }
 ],
 "metadata": {
  "kernelspec": {
   "display_name": "Python 3",
   "language": "python",
   "name": "python3"
  },
  "language_info": {
   "codemirror_mode": {
    "name": "ipython",
    "version": 3
   },
   "file_extension": ".py",
   "mimetype": "text/x-python",
   "name": "python",
   "nbconvert_exporter": "python",
   "pygments_lexer": "ipython3",
   "version": "3.7.6"
  }
 },
 "nbformat": 4,
 "nbformat_minor": 4
}
